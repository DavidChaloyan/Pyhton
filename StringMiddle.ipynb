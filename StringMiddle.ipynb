{
 "cells": [
  {
   "cell_type": "code",
   "execution_count": 9,
   "metadata": {},
   "outputs": [
    {
     "name": "stdout",
     "output_type": "stream",
     "text": [
      "BBB\n"
     ]
    }
   ],
   "source": [
    "def str(str1):\n",
    "    if (type(str1) == type(\"a\")) and (len(str1) % 2 != 0) and (len(str1) > 7):\n",
    "        newstr=\"\"\n",
    "        for i in range((len(str1)//2)-1, (len(str1)//2)+2):\n",
    "            newstr += str1[i]\n",
    "        return newstr\n",
    "    else:\n",
    "        print(\"The word is incorect. Please insert a new word\")\n",
    "str1='aaaaaBBBaaaaa'\n",
    "print(str(str1))"
   ]
  },
  {
   "cell_type": "code",
   "execution_count": null,
   "metadata": {},
   "outputs": [],
   "source": [
    "    "
   ]
  }
 ],
 "metadata": {
  "kernelspec": {
   "display_name": "Python 3",
   "language": "python",
   "name": "python3"
  },
  "language_info": {
   "codemirror_mode": {
    "name": "ipython",
    "version": 3
   },
   "file_extension": ".py",
   "mimetype": "text/x-python",
   "name": "python",
   "nbconvert_exporter": "python",
   "pygments_lexer": "ipython3",
   "version": "3.8.10"
  }
 },
 "nbformat": 4,
 "nbformat_minor": 4
}
