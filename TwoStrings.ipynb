{
 "cells": [
  {
   "cell_type": "code",
   "execution_count": 4,
   "metadata": {},
   "outputs": [
    {
     "name": "stdout",
     "output_type": "stream",
     "text": [
      "SumHotmer\n"
     ]
    }
   ],
   "source": [
    "def string(str1, str2):\n",
    "    newstr=\"\"\n",
    "    len1 =len(str1)\n",
    "    for i in range(len1+1):\n",
    "        if i<len1 //2:\n",
    "            newstr+= str1[i]\n",
    "        elif i == len1//2:\n",
    "            newstr += str2\n",
    "        else:\n",
    "            newstr += str1[i-1]\n",
    "    return newstr\n",
    "s1=\"Summer\"\n",
    "s2=\"Hot\"\n",
    "print (string(s1,s2))"
   ]
  },
  {
   "cell_type": "code",
   "execution_count": null,
   "metadata": {},
   "outputs": [],
   "source": []
  }
 ],
 "metadata": {
  "kernelspec": {
   "display_name": "Python 3",
   "language": "python",
   "name": "python3"
  },
  "language_info": {
   "codemirror_mode": {
    "name": "ipython",
    "version": 3
   },
   "file_extension": ".py",
   "mimetype": "text/x-python",
   "name": "python",
   "nbconvert_exporter": "python",
   "pygments_lexer": "ipython3",
   "version": "3.8.10"
  }
 },
 "nbformat": 4,
 "nbformat_minor": 4
}
